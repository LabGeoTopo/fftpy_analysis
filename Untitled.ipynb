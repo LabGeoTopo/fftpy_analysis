{
 "cells": [
  {
   "cell_type": "code",
   "execution_count": 1,
   "id": "f3332557-40cf-4eba-92b5-4d84909411a4",
   "metadata": {},
   "outputs": [],
   "source": [
    "import pyproj as proj\n"
   ]
  },
  {
   "cell_type": "code",
   "execution_count": 23,
   "id": "567b16d5-960b-4c38-aa6c-eb0c83164933",
   "metadata": {},
   "outputs": [
    {
     "name": "stderr",
     "output_type": "stream",
     "text": [
      "/home/mitsos/.local/lib/python3.8/site-packages/pyproj/crs/crs.py:130: FutureWarning: '+init=<authority>:<code>' syntax is deprecated. '<authority>:<code>' is the preferred initialization method. When making the change, be mindful of axis order changes: https://pyproj4.github.io/pyproj/stable/gotchas.html#axis-order-changes-in-proj-6\n",
      "  in_crs_string = _prepare_from_proj_string(in_crs_string)\n",
      "<ipython-input-23-25bfddab1e90>:7: DeprecationWarning: This function is deprecated. See: https://pyproj4.github.io/pyproj/stable/gotchas.html#upgrading-to-pyproj-2-from-pyproj-1\n",
      "  proj.transform(crs_wgs, crs_ggrs, 22.297520467661112 ,40.2984276754027)\n"
     ]
    },
    {
     "data": {
      "text/plain": [
       "(355157.39686487295, 4461984.732647269)"
      ]
     },
     "execution_count": 23,
     "metadata": {},
     "output_type": "execute_result"
    }
   ],
   "source": [
    "crs_wgs = proj.Proj(init='epsg:4326') \n",
    "#crs_ggrs = proj.Proj(init='epsg:2100')\n",
    "ggrs = \"+proj=tmerc +lat_0=0 +lon_0=24 +k=0.9996 +x_0=500000 +y_0=0 +ellps=GRS80 +towgs84=-199.87,74.79,246.62,0,0,0,0 +units=m +no_defs +type=crs\"\n",
    "crs_ggrs = proj.Proj(ggrs)\n",
    "#cust = \"+proj=tmerc +lat_0=24 +lon_0=0 +k=0.9996 +x_0=500000 +y_0=0 +ellps=WGS84 +datum=WGS84 +units=m +no_defs\"\n",
    "#crs_cust = proj.Proj(cust) \n",
    "proj.transform(crs_wgs, crs_ggrs, 22.297520467661112 ,40.2984276754027)"
   ]
  },
  {
   "cell_type": "code",
   "execution_count": 41,
   "id": "9bd1a233-f504-43e4-bce9-4837b603c93d",
   "metadata": {},
   "outputs": [
    {
     "data": {
      "text/plain": [
       "40.302409435327775"
      ]
     },
     "execution_count": 41,
     "metadata": {},
     "output_type": "execute_result"
    }
   ],
   "source": [
    "a=40+18/60+8.67396718/3600\n",
    "a"
   ]
  },
  {
   "cell_type": "code",
   "execution_count": 42,
   "id": "ab00755c-5fe6-4610-b7a7-c5b4ccd73c59",
   "metadata": {},
   "outputs": [
    {
     "data": {
      "text/plain": [
       "22.599717709344443"
      ]
     },
     "execution_count": 42,
     "metadata": {},
     "output_type": "execute_result"
    }
   ],
   "source": [
    "b=22+35/60+58.98375364/3600\n",
    "b"
   ]
  },
  {
   "cell_type": "code",
   "execution_count": 43,
   "id": "39abf0ad-5b6f-4f9a-a6d9-5cd97939e3c1",
   "metadata": {},
   "outputs": [
    {
     "name": "stderr",
     "output_type": "stream",
     "text": [
      "/home/mitsos/.local/lib/python3.8/site-packages/pyproj/crs/crs.py:130: FutureWarning: '+init=<authority>:<code>' syntax is deprecated. '<authority>:<code>' is the preferred initialization method. When making the change, be mindful of axis order changes: https://pyproj4.github.io/pyproj/stable/gotchas.html#axis-order-changes-in-proj-6\n",
      "  in_crs_string = _prepare_from_proj_string(in_crs_string)\n",
      "<ipython-input-43-70ff8ce63452>:7: DeprecationWarning: This function is deprecated. See: https://pyproj4.github.io/pyproj/stable/gotchas.html#upgrading-to-pyproj-2-from-pyproj-1\n",
      "  proj.transform(crs_wgs, crs_ggrs, b ,a)\n"
     ]
    },
    {
     "data": {
      "text/plain": [
       "(380848.943093429, 4461976.83140682)"
      ]
     },
     "execution_count": 43,
     "metadata": {},
     "output_type": "execute_result"
    }
   ],
   "source": [
    "crs_wgs = proj.Proj(init='epsg:4326') \n",
    "#crs_ggrs = proj.Proj(init='epsg:2100')\n",
    "ggrs = \"+proj=tmerc +lat_0=0 +lon_0=24 +k=0.9996 +x_0=500000 +y_0=0 +ellps=GRS80 +towgs84=-199.87,74.79,246.62,0,0,0,0 +units=m +no_defs +type=crs\"\n",
    "crs_ggrs = proj.Proj(ggrs)\n",
    "#cust = \"+proj=tmerc +lat_0=24 +lon_0=0 +k=0.9996 +x_0=500000 +y_0=0 +ellps=WGS84 +datum=WGS84 +units=m +no_defs\"\n",
    "#crs_cust = proj.Proj(cust) \n",
    "proj.transform(crs_wgs, crs_ggrs, b ,a)"
   ]
  },
  {
   "cell_type": "code",
   "execution_count": null,
   "id": "31e120dd-63ad-447d-a423-d9dfb16de2ef",
   "metadata": {},
   "outputs": [],
   "source": []
  }
 ],
 "metadata": {
  "kernelspec": {
   "display_name": "Python 3",
   "language": "python",
   "name": "python3"
  },
  "language_info": {
   "codemirror_mode": {
    "name": "ipython",
    "version": 3
   },
   "file_extension": ".py",
   "mimetype": "text/x-python",
   "name": "python",
   "nbconvert_exporter": "python",
   "pygments_lexer": "ipython3",
   "version": "3.8.10"
  }
 },
 "nbformat": 4,
 "nbformat_minor": 5
}

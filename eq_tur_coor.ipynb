{
 "cells": [
  {
   "cell_type": "code",
   "execution_count": 759,
   "id": "9fdc1129",
   "metadata": {},
   "outputs": [],
   "source": [
    "# import datetime\n",
    "import math\n",
    "import numpy as np\n",
    "import scipy as sp\n",
    "import scipy.fftpack\n",
    "import pandas as pd\n",
    "import matplotlib.pyplot as plt\n",
    "import matplotlib.dates as mdates\n",
    "import matplotlib.image as image\n",
    "from matplotlib.offsetbox import  OffsetImage\n",
    "\n",
    "#matplotlib inline\n",
    "import pyproj\n",
    "import pymap3d as pm\n",
    "\n",
    "from astropy.time import Time"
   ]
  },
  {
   "cell_type": "code",
   "execution_count": 760,
   "id": "2ea83959",
   "metadata": {},
   "outputs": [],
   "source": [
    "stacode='alex'\n",
    "## input data\n",
    "data = pd.read_csv(\"data/turkeq/{}_kin03700_23.cts\".format(stacode), sep=\" \")\n",
    "data['Lat'], data['Lon'], data['Alt'] = pm.ecef2geodetic(data['X'], data['Y'], data['Z'], ell=None, deg=True)\n",
    "\n",
    "data['mjdTim'] = data['mjd']+data['sod']/(3600*24)\n",
    "data['Date'] = Time(data['mjdTim'], format='mjd').datetime\n",
    "\n",
    "data = data.set_index(['Date'])\n",
    "header= ['X','Y','Z',]\n",
    "data\n",
    "data.to_csv('{}_coor.csv'.format(stacode), columns=header)"
   ]
  },
  {
   "cell_type": "code",
   "execution_count": 761,
   "id": "1c20abc4",
   "metadata": {},
   "outputs": [],
   "source": [
    "# split data\n",
    "df1 = data.loc['2023-02-06 01:10:00' : '2023-02-06 01:40:00', :]\n",
    "\n",
    "df2 = data.loc['2023-02-06 10:20:00' : '2023-02-06 10:50:00', :]"
   ]
  },
  {
   "cell_type": "code",
   "execution_count": 762,
   "id": "a2c19926",
   "metadata": {},
   "outputs": [],
   "source": [
    "#azimuth\n",
    "from pyproj import Geod\n",
    "#earthquake 1\n",
    "lat_eq1 = 37.226\n",
    "lon_eq1 = 37.014\n",
    "\n",
    "lat1 = df1['Lat'][0]\n",
    "lon1 = df1['Lon'][0]\n",
    "\n",
    "g = Geod(ellps='WGS84') \n",
    "a1 = g.inv(lon1, lat1, lon_eq1, lat_eq1, radians=0)[0]\n",
    "a1=math.radians(a1)\n",
    "   \n",
    "if a1<0:\n",
    "        a1=abs(a1)\n",
    "        a1=2*np.pi-a1\n",
    "\n",
    "#earthquake 2\n",
    "lat_eq2 = 38.011\n",
    "lon_eq2 = 37.196\n",
    "\n",
    "lat2 = df2['Lat'][0]\n",
    "lon2 = df2['Lon'][0]\n",
    "\n",
    "a2 = g.inv(lon2, lat2, lon_eq2, lat_eq2, radians=0)[0]\n",
    "a2=math.radians(a2)\n",
    "\n",
    "if a2<0:\n",
    "        a2=abs(a2)\n",
    "        a2=2*np.pi-a2\n",
    "        \n"
   ]
  },
  {
   "cell_type": "code",
   "execution_count": 763,
   "id": "7fc73e2d",
   "metadata": {},
   "outputs": [],
   "source": [
    "#geodesic distance from epicenter\n",
    "from geopy.distance import geodesic\n",
    "\n",
    "epicenter1 = (lat_eq1,lon_eq1)\n",
    "epicenter2 = (lat_eq2, lon_eq2)\n",
    "\n",
    "station_coor = (data['Lat'][0], data['Lon'][0])\n",
    "dist1 = (geodesic(epicenter1, station_coor).km)\n",
    "dist2 = (geodesic(epicenter2, station_coor).km)\n",
    "\n",
    "#print(dist1)\n",
    "#print(dist2)"
   ]
  },
  {
   "cell_type": "code",
   "execution_count": 764,
   "id": "446c73c6",
   "metadata": {},
   "outputs": [
    {
     "name": "stdout",
     "output_type": "stream",
     "text": [
      "dyng 38.07855205914097 23.9324354433117 86.26892806543607 1163.296424642552\n"
     ]
    }
   ],
   "source": [
    "line = '{} '.format(stacode)\n",
    "#for c in ['X', 'Y', 'Z', 'Lat', 'Lon']:\n",
    "   # mean_c = data[c].mean()\n",
    "   # line += '{:}'.format(mean_c)\n",
    "line += '{:} {:} {:} {:} {:} {:}'.format(lat1, lon1, a1*180/math.pi, a2*180/math.pi, dist1, dist2)\n",
    "#line contains station code, station lat and lon, azimuth for 1st eq, azimuth for 2nd eq, distance in km from 1st epicenter, distance in km from 2nd epicenter \n",
    "print(line)\n",
    "\n",
    "with open(\"Outputs/output_azimuth_dist.txt\", \"a\") as fout:\n",
    "    fout.write(\"{:} \\n\".format(line))\n",
    "fout.close()\n"
   ]
  },
  {
   "cell_type": "code",
   "execution_count": null,
   "id": "d1db1fd0-0b5c-4e0f-ae61-48cd961bd03c",
   "metadata": {},
   "outputs": [],
   "source": []
  }
 ],
 "metadata": {
  "kernelspec": {
   "display_name": "Python 3",
   "language": "python",
   "name": "python3"
  },
  "language_info": {
   "codemirror_mode": {
    "name": "ipython",
    "version": 3
   },
   "file_extension": ".py",
   "mimetype": "text/x-python",
   "name": "python",
   "nbconvert_exporter": "python",
   "pygments_lexer": "ipython3",
   "version": "3.8.10"
  }
 },
 "nbformat": 4,
 "nbformat_minor": 5
}
